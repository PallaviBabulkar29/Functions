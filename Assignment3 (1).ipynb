{
  "nbformat": 4,
  "nbformat_minor": 0,
  "metadata": {
    "colab": {
      "provenance": []
    },
    "kernelspec": {
      "name": "python3",
      "display_name": "Python 3"
    },
    "language_info": {
      "name": "python"
    }
  },
  "cells": [
    {
      "cell_type": "markdown",
      "source": [
        "Theory Questions\n",
        "1. What is the difference between a function and a method in Python.\n",
        "* Function is a lines of code which is used for some specific task and can be call again and again after creating.\n",
        "Functions are of two types predefined and userdefined functions while method is also a function but it is tied to an object.\n",
        "for example Functions: function(), Method: object.method()\n",
        "\n",
        "2.  Explain the concept of function arguments and parameters in Python.\n",
        "* function Parameter comes under the function definition that accepts the value.for ex, def num(intnum)\n",
        "and function argument is the actual value passed to the function when calling it. for ex, num(2)\n",
        "\n",
        "3. What are the different ways to define and call a function in Python\n",
        "* Defining a function using keyword def\n",
        "for example\n",
        "          def que(name):\n",
        "              print(\"Hi\",name)\n",
        "               \n",
        "* calling a function\n",
        "             que(\"pallavi\")----positional\n",
        "             que(name=\"pallavi\")----keyword     \n",
        "\n",
        "4. What is the purpose of the `return` statement in a Python function\n",
        "* The return statement returns the desirable solution and it gives back the result which can be stored in the variable for example\n",
        "     \n",
        "     \n",
        "     def num(a,b):\n",
        "        return a+b\n",
        "     num(23,45)\n",
        "\n",
        "5.  What are iterators in Python and how do they differ from iterables.\n",
        "* Iterables are any python object that we can loop over for example list,tuple etc they iterates and iterator is the object that represents the stream of data\n",
        "\n",
        "for example :\n",
        "list = [1,2,3] #this is the iterables\n",
        "it = iter(list) #this is the iterator\n",
        "print(next(it)\n",
        "\n",
        "6.  Explain the concept of generators in Python and how they are defined\n",
        "* Generators are the special type of iterators. it is the lazy generator because it yeilds one item at a time and it also saves the memory. its defined by yeild instead of return.\n",
        "\n"
      ],
      "metadata": {
        "id": "kik_RVDI_q7m"
      }
    },
    {
      "cell_type": "code",
      "source": [
        "#for example\n",
        "def generator():\n",
        "    for i in range(1, 6):\n",
        "        yield i\n",
        "\n",
        "# Using the generator\n",
        "gen = generator()\n",
        "\n",
        "for num in gen:\n",
        "    print(num)\n"
      ],
      "metadata": {
        "id": "ohwAG4KPAzlz",
        "colab": {
          "base_uri": "https://localhost:8080/"
        },
        "outputId": "4c31400b-ae6c-433b-c4d2-db1d11db3594"
      },
      "execution_count": null,
      "outputs": [
        {
          "output_type": "stream",
          "name": "stdout",
          "text": [
            "1\n",
            "2\n",
            "3\n",
            "4\n",
            "5\n"
          ]
        }
      ]
    },
    {
      "cell_type": "markdown",
      "source": [
        "7.  What are the advantages of using generators over regular functions\n",
        "* The advantages of using generator function over the regular function is that it saves the memory because it returns one item at a time.\n",
        "\n",
        "8. What is a lambda function in Python and when is it typically used?\n",
        "* Lambda function is an anonymous one line fuction it is used when we need short fuction"
      ],
      "metadata": {
        "id": "KjVbOJEWW_fS"
      }
    },
    {
      "cell_type": "code",
      "source": [
        "#example\n",
        "sq = lambda x: x**2\n",
        "print(sq(3))"
      ],
      "metadata": {
        "id": "WiaATZ0sWFTP",
        "colab": {
          "base_uri": "https://localhost:8080/"
        },
        "outputId": "8b1ba372-59a7-46c9-f5a2-cf288cddc889"
      },
      "execution_count": null,
      "outputs": [
        {
          "output_type": "stream",
          "name": "stdout",
          "text": [
            "9\n"
          ]
        }
      ]
    },
    {
      "cell_type": "markdown",
      "source": [
        "9. Explain the purpose and usage of the `map()` function in Python\n",
        "* The syntax of the map is map(function,iterables) so it maps the function with each iterable item\n",
        "\n",
        "example"
      ],
      "metadata": {
        "id": "vqJKrCglKxJZ"
      }
    },
    {
      "cell_type": "code",
      "source": [
        "num = [1,2,3,4]\n",
        "sq = list(map(lambda x: x**2, num))\n",
        "print(sq)"
      ],
      "metadata": {
        "colab": {
          "base_uri": "https://localhost:8080/"
        },
        "id": "pYUBfEsGKrV8",
        "outputId": "f5419f10-6866-4697-8647-c537a4871d4a"
      },
      "execution_count": null,
      "outputs": [
        {
          "output_type": "stream",
          "name": "stdout",
          "text": [
            "[1, 4, 9, 16]\n"
          ]
        }
      ]
    },
    {
      "cell_type": "markdown",
      "source": [
        "10. What is the difference between `map()`, `reduce()`, and `filter()` functions in Python?\n",
        "* map() function maps the function with each item, reduce() function reduces sequence to the single value,filter() function filters the item based on the condition\n",
        "\n",
        "example"
      ],
      "metadata": {
        "id": "rwi3Hph_LrEX"
      }
    },
    {
      "cell_type": "code",
      "source": [
        "from functools import reduce\n",
        "num = [1,2,3]\n",
        "sq = list(map(lambda x: x**2, num))\n",
        "b = reduce(lambda x,y: x+y, num)\n",
        "a = list(filter(lambda x: x%2 ==0,num))\n",
        "print(sq)\n",
        "print(b)\n",
        "print(a)"
      ],
      "metadata": {
        "id": "yB9YXDrTLmah",
        "colab": {
          "base_uri": "https://localhost:8080/"
        },
        "outputId": "fb44c86b-009c-462f-d345-6f9ff0b3c0b9"
      },
      "execution_count": null,
      "outputs": [
        {
          "output_type": "stream",
          "name": "stdout",
          "text": [
            "[1, 4, 9]\n",
            "6\n",
            "[2]\n"
          ]
        }
      ]
    },
    {
      "cell_type": "code",
      "source": [
        "#11  Using pen & Paper write the internal mechanism for sum operation using  reduce function on this given\n",
        "#list:[47,11,42,13];\n",
        "num = [47,11,42,13]\n",
        "re = reduce(lambda x,y: x+y, num)\n",
        "print(re)\n",
        "\n",
        " '''here first of all 47 + 11 = 58 then\n",
        "  58 + 42 = 100 and\n",
        "   100 + 13 = 113 and thats the logic behind the code'''"
      ],
      "metadata": {
        "colab": {
          "base_uri": "https://localhost:8080/"
        },
        "id": "u57ygMtAP6Jw",
        "outputId": "adee962d-2742-4f25-8295-877acb1db76d"
      },
      "execution_count": null,
      "outputs": [
        {
          "output_type": "stream",
          "name": "stdout",
          "text": [
            "113\n"
          ]
        }
      ]
    },
    {
      "cell_type": "markdown",
      "source": [
        "**Practical que**"
      ],
      "metadata": {
        "id": "MXeXKwULQhkB"
      }
    },
    {
      "cell_type": "code",
      "source": [
        "'''1  Write a Python function that takes a list of numbers as input and returns the sum of all even numbers in\n",
        "the list'''\n",
        "\n",
        "def num()"
      ],
      "metadata": {
        "id": "iHvkcogYQRxM"
      },
      "execution_count": null,
      "outputs": []
    },
    {
      "cell_type": "markdown",
      "source": [
        "Practical que\n"
      ],
      "metadata": {
        "id": "p-g5tgMhfQI6"
      }
    },
    {
      "cell_type": "code",
      "source": [
        "#1. Write a Python function that takes a list of numbers as input and returns the sum of all even numbers in\n",
        "#the list\n",
        "\n",
        "def sum_even_numbers(numbers):\n",
        "    sum = 0\n",
        "    for num in numbers:\n",
        "        if num % 2 == 0:\n",
        "            sum += num\n",
        "    return sum"
      ],
      "metadata": {
        "id": "1uw2ZfeffR_M"
      },
      "execution_count": null,
      "outputs": []
    },
    {
      "cell_type": "code",
      "source": [
        "sum_even_numbers([1,2,3,4,5,6,7,8,9,10])"
      ],
      "metadata": {
        "colab": {
          "base_uri": "https://localhost:8080/"
        },
        "id": "9vnnEoqPfcul",
        "outputId": "58428f96-8e11-44e1-ed4b-12b72934fd3a"
      },
      "execution_count": null,
      "outputs": [
        {
          "output_type": "execute_result",
          "data": {
            "text/plain": [
              "30"
            ]
          },
          "metadata": {},
          "execution_count": 4
        }
      ]
    },
    {
      "cell_type": "code",
      "source": [
        "#2.Create a Python function that accepts a string and returns the reverse of that string\n",
        "def reverse_string(string):\n",
        "    return string[::-1]\n"
      ],
      "metadata": {
        "id": "y0aCeVDqfkD1"
      },
      "execution_count": null,
      "outputs": []
    },
    {
      "cell_type": "code",
      "source": [
        "reverse_string(\"I am Pallavi\")"
      ],
      "metadata": {
        "colab": {
          "base_uri": "https://localhost:8080/",
          "height": 35
        },
        "id": "RjlilxQ0gc9z",
        "outputId": "be187af0-c016-4f93-9c37-b1379af29010"
      },
      "execution_count": null,
      "outputs": [
        {
          "output_type": "execute_result",
          "data": {
            "text/plain": [
              "'ivallaP ma I'"
            ],
            "application/vnd.google.colaboratory.intrinsic+json": {
              "type": "string"
            }
          },
          "metadata": {},
          "execution_count": 6
        }
      ]
    },
    {
      "cell_type": "code",
      "source": [
        "#3.. Implement a Python function that takes a list of integers and returns a new list containing the squares of\n",
        "#each number\n",
        "\n",
        "def sq(numbers):\n",
        "  return[num ** 2 for num in numbers]\n",
        "print(sq([1,2,3,4]))"
      ],
      "metadata": {
        "id": "Xjsyv1Aogg2G",
        "colab": {
          "base_uri": "https://localhost:8080/"
        },
        "outputId": "35b24edb-d075-4b7b-e327-732d99a1c497"
      },
      "execution_count": null,
      "outputs": [
        {
          "output_type": "stream",
          "name": "stdout",
          "text": [
            "[1, 4, 9, 16]\n"
          ]
        }
      ]
    },
    {
      "cell_type": "code",
      "source": [],
      "metadata": {
        "id": "yDBY4zbjhPgh"
      },
      "execution_count": null,
      "outputs": []
    },
    {
      "cell_type": "code",
      "source": [
        "#4.Write a Python function that checks if a given number is prime or not from 1 to 200\n",
        "def prime(n):\n",
        "  if n>2:\n",
        "    return False\n",
        "  for i in range(2,int(n**0.5)+1):\n",
        "    if n % i == 0:\n",
        "      return False\n",
        "  return True\n",
        "\n",
        "print([i for i in range(1,201) if prime(i)])"
      ],
      "metadata": {
        "id": "MU5GQ9akhR9Z",
        "colab": {
          "base_uri": "https://localhost:8080/"
        },
        "outputId": "9d6294d7-c92e-4886-c06a-9996146ff4d6"
      },
      "execution_count": null,
      "outputs": [
        {
          "output_type": "stream",
          "name": "stdout",
          "text": [
            "[1, 2]\n"
          ]
        }
      ]
    },
    {
      "cell_type": "code",
      "source": [
        "#5.Create an iterator class in Python that generates the Fibonacci sequence up to a specified number of\n",
        "#terms\n",
        "\n",
        "class FibonacciIter:\n",
        "  def __init__(self, max_terms):\n",
        "    self.max_terms = max_terms\n",
        "    self.count = 0\n",
        "    self.a, self.b = 0,1\n",
        "\n",
        "  def __iter__(self):\n",
        "    return self\n",
        "\n",
        "  def __next__(self):\n",
        "    if self.count >=self.max_terms:\n",
        "      raise StopIteration\n",
        "    self.count += 1\n",
        "    result = self.a\n",
        "    self.a,self.b = self.b,self.a+self.b\n",
        "    return result\n",
        "\n",
        "for num in FibonacciIter(9):\n",
        "  print(num,end = ' ')"
      ],
      "metadata": {
        "colab": {
          "base_uri": "https://localhost:8080/"
        },
        "id": "4xlrXQI0dqXx",
        "outputId": "866ce0f5-cd9a-4bec-9d05-3bb4f325dd15"
      },
      "execution_count": null,
      "outputs": [
        {
          "output_type": "stream",
          "name": "stdout",
          "text": [
            "0 1 1 2 3 5 8 13 21 "
          ]
        }
      ]
    },
    {
      "cell_type": "code",
      "source": [
        "#6. Write a generator function in Python that yields the powers of 2 up to a given exponent.\n",
        "def power(max_exo):\n",
        "  for i in range(max_exo+1):\n",
        "    yield 2**i\n",
        "\n",
        "for num in power(5):\n",
        "  print(num)\n"
      ],
      "metadata": {
        "colab": {
          "base_uri": "https://localhost:8080/"
        },
        "id": "N3SSIRUFfCh6",
        "outputId": "0777b97c-19ef-47de-9770-1ce0a420f2ad"
      },
      "execution_count": null,
      "outputs": [
        {
          "output_type": "stream",
          "name": "stdout",
          "text": [
            "1\n",
            "2\n",
            "4\n",
            "8\n",
            "16\n",
            "32\n"
          ]
        }
      ]
    },
    {
      "cell_type": "code",
      "source": [
        "#7Implement a generator function that reads a file line by line and yields each line as a string\n",
        "def read_lines(file_path):\n",
        "    with open(file_path, 'r') as file:\n",
        "        for line in file:\n",
        "            yield line.strip()"
      ],
      "metadata": {
        "id": "f2yOwMlUfcgQ"
      },
      "execution_count": null,
      "outputs": []
    },
    {
      "cell_type": "code",
      "source": [
        "#8. Use a lambda function in Python to sort a list of tuples based on the second element of each tuple\n",
        "data =[(1, 5), (3, 2), (2, 8), (5, 1)]\n",
        "sorted_data = sorted(data, key=lambda x: x[1])\n",
        "print(sorted_data)\n"
      ],
      "metadata": {
        "colab": {
          "base_uri": "https://localhost:8080/"
        },
        "id": "Cfkf3yQxfiZN",
        "outputId": "b18f73d7-e449-425e-9221-01a3ab1c8b49"
      },
      "execution_count": null,
      "outputs": [
        {
          "output_type": "stream",
          "name": "stdout",
          "text": [
            "[(5, 1), (3, 2), (1, 5), (2, 8)]\n"
          ]
        }
      ]
    },
    {
      "cell_type": "code",
      "source": [
        "#9Write a Python program that uses `map()` to convert a list of temperatures from Celsius to Fahrenhei\n",
        "\n",
        "celsius_temperatures = [0, 10, 20, 30, 40]\n",
        "fahrenheit_temperatures = list(map(lambda celsius: (celsius * 9/5) + 32, celsius_temperatures))"
      ],
      "metadata": {
        "id": "Owe-_ibAgWPb"
      },
      "execution_count": null,
      "outputs": []
    },
    {
      "cell_type": "code",
      "source": [
        "print(fahrenheit_temperatures)"
      ],
      "metadata": {
        "colab": {
          "base_uri": "https://localhost:8080/"
        },
        "id": "zfinIS2Jgnov",
        "outputId": "9eab4f96-3aac-48a0-cdb2-3d85bf65fdd5"
      },
      "execution_count": null,
      "outputs": [
        {
          "output_type": "stream",
          "name": "stdout",
          "text": [
            "[32.0, 50.0, 68.0, 86.0, 104.0]\n"
          ]
        }
      ]
    },
    {
      "cell_type": "code",
      "source": [
        "#10. Create a Python program that uses `filter()` to remove all the vowels from a given string\n",
        "\n",
        "def remove_vowels(string):\n",
        "    vowels = 'aeiouAEIOU'\n",
        "    return ''.join(filter(lambda char: char not in vowels, string))\n",
        "\n",
        "print(remove_vowels(\"Hello, World!\"))\n"
      ],
      "metadata": {
        "colab": {
          "base_uri": "https://localhost:8080/"
        },
        "id": "awdvBM--gqYQ",
        "outputId": "6e38e810-d596-4afe-be3f-d2e2c9c7982b"
      },
      "execution_count": null,
      "outputs": [
        {
          "output_type": "stream",
          "name": "stdout",
          "text": [
            "Hll, Wrld!\n"
          ]
        }
      ]
    },
    {
      "cell_type": "code",
      "source": [
        "#11.\n",
        "\n",
        "orders = [\n",
        "    [\"34587\", \"Learning Python,Mark Lutz\", 40.95, 4],\n",
        "    [\"98762\", \"Programming Python,Mark Lutz\", 56.80, 5],\n",
        "    [\"77226\", \"Head First Python,paul Barry\", 32.95, 3],\n",
        "    [\"88112\", \"Einführung in Python,Barnd Klein\", 24.99, 3]\n",
        "]\n",
        "\n",
        "result = list(map(lambda order: (\n",
        "    order[0],\n",
        "    round(order[2] * order[3] + (10 if order[2] * order[3] < 100 else 0), 2)\n",
        "), orders))\n",
        "\n",
        "print(result)\n",
        "\n"
      ],
      "metadata": {
        "colab": {
          "base_uri": "https://localhost:8080/"
        },
        "id": "SSNv4-m-g2-p",
        "outputId": "d94da0b9-a674-42db-bc64-cfc4d383849b"
      },
      "execution_count": null,
      "outputs": [
        {
          "output_type": "stream",
          "name": "stdout",
          "text": [
            "[('34587', 163.8), ('98762', 284.0), ('77226', 108.85), ('88112', 84.97)]\n"
          ]
        }
      ]
    },
    {
      "cell_type": "code",
      "source": [],
      "metadata": {
        "id": "AvCpvMnyhlwi"
      },
      "execution_count": null,
      "outputs": []
    }
  ]
}